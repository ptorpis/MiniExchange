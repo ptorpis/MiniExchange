{
 "cells": [
  {
   "cell_type": "code",
   "execution_count": 10,
   "id": "208d6758",
   "metadata": {},
   "outputs": [],
   "source": [
    "import pandas as pd"
   ]
  },
  {
   "cell_type": "code",
   "execution_count": 11,
   "id": "da9e96ed",
   "metadata": {},
   "outputs": [],
   "source": [
    "benchmark_results = pd.read_csv('benchmark_shallow_book.csv')"
   ]
  },
  {
   "cell_type": "code",
   "execution_count": 26,
   "id": "fdede672",
   "metadata": {},
   "outputs": [
    {
     "name": "stdout",
     "output_type": "stream",
     "text": [
      "20948.242999999995\n",
      "19398.561000000005\n",
      "20436.487\n",
      "20872.109999999997\n"
     ]
    }
   ],
   "source": [
    "grouped = benchmark_results.groupby('total_requests')\n",
    "for group in grouped:\n",
    "    print(group[1]['req_per_sec'].sum() / group[1]['req_per_sec'].count())\n",
    "    "
   ]
  }
 ],
 "metadata": {
  "kernelspec": {
   "display_name": "venv",
   "language": "python",
   "name": "python3"
  },
  "language_info": {
   "codemirror_mode": {
    "name": "ipython",
    "version": 3
   },
   "file_extension": ".py",
   "mimetype": "text/x-python",
   "name": "python",
   "nbconvert_exporter": "python",
   "pygments_lexer": "ipython3",
   "version": "3.12.3"
  }
 },
 "nbformat": 4,
 "nbformat_minor": 5
}
